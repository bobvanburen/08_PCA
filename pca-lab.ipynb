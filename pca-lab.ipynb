{
 "cells": [
  {
   "cell_type": "markdown",
   "id": "8a0fe410-6fe1-4817-98ce-5c9a41c111c8",
   "metadata": {},
   "source": [
    "# PCA Lab\n",
    "\n",
    "In this lab we will be practicing using PCA to analyze a genomic dataset\n",
    "\n",
    "\n",
    "## The data\n",
    "\n",
    "*Arabidopsis thaliana*. This data was downloaded from [The 1001 Genomes Project](https://1001genomes.org/data/GMI-MPI/releases/v3.1) and the file is called `1001genomes_snp-short-indel_only_ACGTN.vcf.gz` and is in the '/mnt/research/PLB812_FS24_S001/12_PCA' folder."
   ]
  },
  {
   "cell_type": "markdown",
   "id": "aca43862-6365-4b5f-b1b9-907b1145f0fe",
   "metadata": {},
   "source": [
    "## Running PCA \n",
    "\n",
    "We will be using the software Plink to run PCA. Our first step will be loading the Plink module on the hpcc.\n",
    "\n",
    "`$module purge` <br>\n",
    "`$module load PLINK/2.00a3.7-gfbf-2023a`\n",
    "\n",
    "Next, if your data is in a vcf file, you need to convert it to a plink format.  We will also want to filter these files to give us SNPs that are not in linkage disequilibrium with each other, and to remove rare sites or sites with a lot of missing data. You can look up each of the options in the following command to see how they work.\n",
    "\n",
    "`$plink2 -bfile [file-prefix] --indep-pairwise 100 20 0.2 --geno 0.05 --max-alleles 2 --maf 0.05 --allow-extra-chr --make-bed --out [file-prefix]_filtered`\n",
    "\n",
    "If you were to do this another time and your data wass already in a plink format (file names end with **.bed** and **.bim** and **.fam** and have the same file prefix), you could run the following command:\n",
    "\n",
    "`$plink2 -bfile [file-prefix] --indep-pairwise 100 20 0.2 --geno 0.05 --max-alleles 2 --maf 0.05 --allow-extra-chr --make-bed --out [file-prefix].filtered`\n",
    "\n",
    "Once you have filtered your plink files of SNPs, it is time to run the PCA analysis!\n",
    "\n",
    "`$plink2 -bfile [file-prefix] --extract [file-prefix].filtered.in --pca --allow-extra-chr --out [file-prefix]-pca`\n",
    "\n",
    "Note the `--extract` flag here directs you towards a list of sites that was generated in the previous filtered set. If you were to skip this, plink would try to run the PCA on all the sites, not just the sites that passed the filters. \n",
    "\n",
    "You can use **less** to look at the output files from this step, which will be `[file-prefix]-pca.eigenvec` and `[file-prefix]-pca.eigenval`."
   ]
  },
  {
   "cell_type": "markdown",
   "id": "93bf0244-c58d-4acb-8103-0e4ac131ea4f",
   "metadata": {},
   "source": [
    "## Subsampling SNPs\n",
    "\n",
    "We talked in class about how the number of SNPs is important for making a PCA. In the lab we'll investigate this using the *A. thaliana* data.\n",
    "\n",
    "We can efficiently subsample a smaller dataset by sampling from the [file-prefix].filtered.in site, and then only using these sites when we run the PCA. To subsample 100 sites, use the following bash command:\n",
    "\n",
    "`shuf [file-prefix].filtered.in | head -n 100 > [file-prefix].100.in`\n",
    "\n",
    "Take a second to look at this command and think about what the different parts of it do (or ask a neighbor or Emily!).\n",
    "\n",
    "Modify the command to take subsamples of 100, 1000, and 10,000 sites.\n",
    "\n",
    "You can count the number of lines in your `[file-prefix].x.in` files using `wc -l [file]`. Use this to check that your subsampling worked correctly. Then, rerun your PCA on these subsamples."
   ]
  },
  {
   "cell_type": "markdown",
   "id": "53222356-10cb-4e40-ba91-16c644696bc5",
   "metadata": {},
   "source": [
    "## Making plots"
   ]
  },
  {
   "cell_type": "markdown",
   "id": "307bf28f-b0eb-4835-8412-64fb8c5ccdcf",
   "metadata": {},
   "source": [
    "You will need some extra information about the genotypes in your PCA.\n",
    "\n",
    "This file is called `accessions.csv`.\n",
    "\n",
    "There is a file called 'pca-plots.Rmd' in the class folder ('/mnt/research/PLB812_FS24_S001/12_PCA') that has code for making PCA plots. Please open it up in Rstudio, edit the paths for your own data, and make PCA plots for all the SNPs and then for PCAs made from each subset.\n",
    "\n",
    "When you're done, put the PCA plots in this notebook."
   ]
  },
  {
   "cell_type": "markdown",
   "id": "9901a470-1bee-4efc-b4e9-27cf271821ad",
   "metadata": {
    "jp-MarkdownHeadingCollapsed": true
   },
   "source": [
    "## Questions\n",
    "\n",
    "1. Based on the plot you've made, what are the major axes of variation in your diversity dataset? How do you know this?\n",
    "   \n",
    "3. How many sites were in the dataset of all SNPs that you used to calculate the PCA without subsampling? How did you find this out?\n",
    "\n",
    "4. How did changing the number of SNPs affect the PCA plots you made? How many SNPs would you recommend that another researcher use for Arabidopsis PCA?"
   ]
  },
  {
   "cell_type": "markdown",
   "id": "f0e82503-8a33-46fa-940d-1887761e73b7",
   "metadata": {},
   "source": [
    "## Other helpful stuff:\n",
    "\n",
    "[The Documentation for Plink2](https://www.cog-genomics.org/plink/2.0/)\n",
    "\n",
    "[A tutorial on PCA using Plink](https://www.zoology.ubc.ca/~schluter/R/Genomics.html#PCA_with_PLINK2)"
   ]
  }
 ],
 "metadata": {
  "kernelspec": {
   "display_name": "Python 3 (ipykernel)",
   "language": "python",
   "name": "python3"
  },
  "language_info": {
   "codemirror_mode": {
    "name": "ipython",
    "version": 3
   },
   "file_extension": ".py",
   "mimetype": "text/x-python",
   "name": "python",
   "nbconvert_exporter": "python",
   "pygments_lexer": "ipython3",
   "version": "3.11.3"
  }
 },
 "nbformat": 4,
 "nbformat_minor": 5
}
